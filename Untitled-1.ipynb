{
 "cells": [
  {
   "cell_type": "code",
   "execution_count": 1,
   "metadata": {},
   "outputs": [],
   "source": [
    "import pandas as pd"
   ]
  },
  {
   "cell_type": "code",
   "execution_count": 7,
   "metadata": {},
   "outputs": [],
   "source": [
    "from selenium import webdriver\n",
    "from selenium.webdriver.common.keys import Keys\n",
    "from selenium.webdriver.common.by import By\n",
    "from bs4 import BeautifulSoup\n",
    "import pandas as pd\n",
    "from datetime import datetime\n",
    "import sqlite3\n",
    "\n",
    "# Initialize the SQLite database connection\n",
    "db_connection = sqlite3.connect('card_data.db')\n",
    "cursor = db_connection.cursor()\n",
    "\n",
    "# Define the SQL command to create a table if not exists\n",
    "create_table_query = '''\n",
    "    CREATE TABLE IF NOT EXISTS card_data (\n",
    "    id INTEGER PRIMARY KEY,\n",
    "    card_name TEXT NOT NULL,\n",
    "    card_price REAL NOT NULL,\n",
    "    card_stock TEXT NOT NULL,\n",
    "    entry_date TEXT NOT NULL\n",
    ");\n",
    "'''\n",
    "cursor.execute(create_table_query)\n",
    "db_connection.commit()"
   ]
  },
  {
   "cell_type": "code",
   "execution_count": 5,
   "metadata": {},
   "outputs": [
    {
     "data": {
      "text/plain": [
       "['Convergence Of Dominion',\n",
       " 'Obeka, Brute Chronologist',\n",
       " 'Goreclaw, Terror Of Qal Sisma',\n",
       " 'Kinnan, Bonder Prodigy',\n",
       " 'Primeval Titan',\n",
       " 'Titan Of Industry',\n",
       " 'Farseek',\n",
       " 'Arbor Elf',\n",
       " 'Wildfire',\n",
       " 'Mental Misstep',\n",
       " 'Elvish Mystic',\n",
       " 'Fyndhorn Elf']"
      ]
     },
     "execution_count": 5,
     "metadata": {},
     "output_type": "execute_result"
    }
   ],
   "source": [
    "loop_cards"
   ]
  }
 ],
 "metadata": {
  "kernelspec": {
   "display_name": "Python 3",
   "language": "python",
   "name": "python3"
  },
  "language_info": {
   "codemirror_mode": {
    "name": "ipython",
    "version": 3
   },
   "file_extension": ".py",
   "mimetype": "text/x-python",
   "name": "python",
   "nbconvert_exporter": "python",
   "pygments_lexer": "ipython3",
   "version": "3.11.4"
  },
  "orig_nbformat": 4
 },
 "nbformat": 4,
 "nbformat_minor": 2
}
